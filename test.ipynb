{
 "cells": [
  {
   "cell_type": "code",
   "execution_count": null,
   "metadata": {},
   "outputs": [],
   "source": [
    "# use conda to create / activate an env with instagrapi installed "
   ]
  },
  {
   "cell_type": "code",
   "execution_count": 4,
   "metadata": {},
   "outputs": [],
   "source": [
    "import openai"
   ]
  },
  {
   "cell_type": "code",
   "execution_count": 6,
   "metadata": {},
   "outputs": [],
   "source": [
    "import requests\n",
    "from io import BytesIO\n",
    "from PIL import Image"
   ]
  },
  {
   "cell_type": "code",
   "execution_count": 11,
   "metadata": {},
   "outputs": [],
   "source": [
    "import time\n",
    "from random import randint"
   ]
  },
  {
   "cell_type": "code",
   "execution_count": 7,
   "metadata": {},
   "outputs": [],
   "source": [
    "from instagrapi import Client"
   ]
  },
  {
   "cell_type": "code",
   "execution_count": 8,
   "metadata": {},
   "outputs": [
    {
     "name": "stdout",
     "output_type": "stream",
     "text": [
      "bat_art_ai B$VR8v!lep0UQI\n"
     ]
    }
   ],
   "source": [
    "with open (\"./tmp/credentials.txt\", \"r\") as f:\n",
    "    username, password = f.read().splitlines()\n",
    "\n",
    "print(username,password)"
   ]
  },
  {
   "cell_type": "code",
   "execution_count": 9,
   "metadata": {},
   "outputs": [],
   "source": [
    "client = Client()\n",
    "client.login(username,password)\n",
    "\n",
    "hashtag = \"SaveTheBats\""
   ]
  },
  {
   "cell_type": "code",
   "execution_count": 12,
   "metadata": {},
   "outputs": [
    {
     "name": "stdout",
     "output_type": "stream",
     "text": [
      "Liked post number 1 of hashtag Bats\n",
      "Liked post number 2 of hashtag Bats\n",
      "Liked post number 3 of hashtag Bats\n"
     ]
    }
   ],
   "source": [
    "hashtag = \"Bats\"\n",
    "\n",
    "medias = client.hashtag_medias_recent(hashtag,10)\n",
    "medias.__len__\n",
    "print(f\"medias gotten: {len(medias)}\")\n",
    "for i, media in enumerate(medias):\n",
    "  client.media_like(media.id)\n",
    "  time.sleep(randint(1,3))\n",
    "  print(f\"Liked post number {i+1} of hashtag {hashtag}\")"
   ]
  },
  {
   "cell_type": "code",
   "execution_count": 18,
   "metadata": {},
   "outputs": [
    {
     "data": {
      "text/plain": [
       "True"
      ]
     },
     "execution_count": 18,
     "metadata": {},
     "output_type": "execute_result"
    }
   ],
   "source": [
    "client.dump_settings('./tmp/ClientSettings.json')\n"
   ]
  }
 ],
 "metadata": {
  "kernelspec": {
   "display_name": "BatBot",
   "language": "python",
   "name": "python3"
  },
  "language_info": {
   "codemirror_mode": {
    "name": "ipython",
    "version": 3
   },
   "file_extension": ".py",
   "mimetype": "text/x-python",
   "name": "python",
   "nbconvert_exporter": "python",
   "pygments_lexer": "ipython3",
   "version": "3.11.3"
  },
  "orig_nbformat": 4
 },
 "nbformat": 4,
 "nbformat_minor": 2
}
