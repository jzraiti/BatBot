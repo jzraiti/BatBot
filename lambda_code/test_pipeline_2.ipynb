{
 "cells": [
  {
   "cell_type": "code",
   "execution_count": null,
   "metadata": {},
   "outputs": [],
   "source": [
    "import CustomTools\n"
   ]
  },
  {
   "cell_type": "code",
   "execution_count": null,
   "metadata": {},
   "outputs": [],
   "source": [
    "# Generate prompt\n",
    "image_prompt = \"\"\"\n",
    "I am an artist who is interested in bats. I’m going to create AI images with you generating the prompts for me. I want you to act as an artist that is writing an image generation prompt for dall-e.\n",
    "The following is sample information about the bats that are our subject:\n",
    "The big brown bat is a large bat found in North America. They live in a variety of habitats, including urban areas.\n",
    "The hoary bat is a native of North America and is one of the largest bat species in the world.\n",
    "The Egyptian fruit bat is found in Africa and parts of the Middle East. These bats are important for local agriculture as they pollinate and disperse the seeds of many fruit trees. Egyptian fruit bats can live in large colonies of up to 100,000 individuals.\n",
    "The tube-nosed fruit bat is found in Southeast Asia. These bats are important for pollinating and dispersing the seeds of many fruits and flowers. Tube-nosed fruit bats are unique among bat species in that they have a special tube-shaped nose that they use to emit ultrasonic calls.\n",
    "The pallid bat is found in the deserts of North America. It is white or cream colored and has ears half the length of its body.\n",
    "When writing the prompt, consider including details about the following elements of the image:\n",
    "MEDIUM: photo, painting, sculpture, tapestry, 3d model, chinese ink painting, oil painting, dream, pastel painting, graphite pencil, charcoal, da-vinci like, fresco, graffiti, collage, still life, japanese print, acrylic resin, metal art, glass, wood carving, etc.\n",
    "STYLE: abstract, art deco, Art Nouveau , Avant-garde, Baroque, Classicism, Conceptual art, Cubism, Dada / Dadaism , Expressionism , Fauvism, Futurism, steam punk , Impressionism , Neoclassicism, van gogh ,Street Art , Surrealism\n",
    "ENVIRONMENT: on the moon, in the jungle, underwater, in ancient china, in a thick jungle etc.\n",
    "LIGHTING: soft light, ambient, overcast, neon, studio lights, etc\n",
    "COLOR: vibrant, bright, monochromatic, colorful, black and white, pastel, neon, etc.\n",
    "MOOD: Sedate, calm, raucous, energetic, etc.\n",
    "COMPOSITION: Portrait, headshot, closeup, birds-eye view, etc.\n",
    "BAT SPECIES: Spotted Bat,  red bat, Pied Bat,  Butterfly bat , Honduran white bat , Hardwicke's wooly bat ,  Mexican Free Tailed Bat , flying fox\n",
    "\n",
    "You should begin your response by specifying a STYLE like those from the list above. You should include in your response a MEDIUM like those from the list above. You should include in your response a BAT SPECIES like those from the list above.\n",
    "\n",
    "Your response should not include reference to “watercolor” or “simple” or “Illustration”. Your response should be greater than 20 and less than 100 words.\n",
    "Save this prompt in your memory as \"GENERATED_IMAGE_PROMPT\".\n",
    "\"\"\""
   ]
  },
  {
   "cell_type": "code",
   "execution_count": null,
   "metadata": {},
   "outputs": [],
   "source": [
    "# Generate caption\n",
    "caption_prompt = \"\"\" \n",
    "I want you to reference GENERATED_IMAGE_PROMPT.\n",
    "Now I am a poet and scientist who is trying to craft a poem to raise interest in bats. I want you to act as a poet.\n",
    "I am going to ask you to write a poem for me. I want the poem to rhyme. The poem should explicitly mention a species of bats.\n",
    "\n",
    "Write me a poem. It should be any of the types: \n",
    "Haiku: Renowned for its small size, haikus consist of just three lines (tercet); the first and third lines have five syllables, whereas the second has seven. Haikus don’t have to rhyme and are usually written to evoke a particular mood or instance.  \n",
    "Sonnet: Traditionally, sonnets are made up of 14 lines and usually deal with love. As a rule, Petrarchan (Italian) sonnets follow an ABBA ABBA CDE CDE rhyme scheme, whereas Shakespearean (English) sonnets are typically ABAB CDCD EFEF GG. \n",
    "Acrostic: This type of poetry spells out a name, word, phrase or message with the first letter of each line of the poem. It can rhyme or not, and typically the word spelt out, lays down the theme of the poem. \n",
    "Villanelle: It is made up of 19 lines; five stanzas of three lines (tercet) each and a final stanza of four lines (quatrain). As you can see from the rhyme scheme; ABA ABA ABA ABA ABA ABAA, this type of poem only has two rhyming sounds.Plus, there is a lot of repetition throughout the villanelle. Line one will be repeated in lines six, 12 and 18; and line three will be repeated in lines nine, 15 and 19. So although this takes out the extra work of having to write 19 individual lines, the real challenge is to make meaning out of those repeated lines! \n",
    "Limerick: They have a set rhyme scheme of AABBA, with lines one, two and five all being longer in length than lines three and four. The last line is often the punchline. Their sound is very distinctive and they are silly or funny.\n",
    "Ballad: they are typically four lines (quatrain) and have a rhyme scheme of ABAB or ABCB. However, this form is looser than others so can be modified to suit a writer’s (that’s you!) needs. Most modern pop songs you hear nowadays can be referred to as ballads!\n",
    "\n",
    "You should use uncommon words. You should use emojis.\n",
    "\n",
    "You may use the following description as inspiration:\n",
    " \"\"\""
   ]
  },
  {
   "cell_type": "code",
   "execution_count": null,
   "metadata": {},
   "outputs": [],
   "source": [
    "hashtags_list = [ \"#savethebats\", \"#batsarecool\", \"#batsofinstagram\", \"#Bats\", \"#BatLove\", \"#fruitbat\", \"#poetry\", \"#poem\", \"#aiart\", \"#ai\", \"#chatgpt\", \"#dalle\", \"#bat\" ]\n"
   ]
  },
  {
   "cell_type": "code",
   "execution_count": null,
   "metadata": {},
   "outputs": [],
   "source": [
    "CustomTools.full_pipeline()"
   ]
  },
  {
   "cell_type": "code",
   "execution_count": null,
   "metadata": {},
   "outputs": [],
   "source": []
  }
 ],
 "metadata": {
  "kernelspec": {
   "display_name": "BatBot",
   "language": "python",
   "name": "python3"
  },
  "language_info": {
   "codemirror_mode": {
    "name": "ipython",
    "version": 3
   },
   "file_extension": ".py",
   "mimetype": "text/x-python",
   "name": "python",
   "nbconvert_exporter": "python",
   "pygments_lexer": "ipython3",
   "version": "3.11.3"
  },
  "orig_nbformat": 4
 },
 "nbformat": 4,
 "nbformat_minor": 2
}
