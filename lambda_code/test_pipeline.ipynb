{
 "cells": [
  {
   "cell_type": "markdown",
   "metadata": {},
   "source": [
    "# Just for testing the lambda_function locally"
   ]
  },
  {
   "cell_type": "code",
   "execution_count": null,
   "metadata": {},
   "outputs": [],
   "source": [
    "import CustomTools\n",
    "import openai\n",
    "import os"
   ]
  },
  {
   "cell_type": "code",
   "execution_count": null,
   "metadata": {},
   "outputs": [],
   "source": [
    "instagrapi_client = CustomTools.login(\"./secrets/apiKey.txt\",\"./secrets/credentials.txt\",\"./secrets/ClientSettings.json\")"
   ]
  },
  {
   "cell_type": "code",
   "execution_count": null,
   "metadata": {},
   "outputs": [],
   "source": [
    "    #generate dalle prompt - using openai playground\n",
    "    response = openai.ChatCompletion.create(\n",
    "    model=\"gpt-4\",\n",
    "    messages=[\n",
    "        {\n",
    "        \"role\": \"system\",\n",
    "        \"content\": \"a Dall E prompt generator\"\n",
    "        },\n",
    "        {\n",
    "        \"role\": \"user\",\n",
    "        \"content\": \"I am an artist trying to promote conservation of bat populations via interesting and novel art forms. Please generate 5 Dall E prompts that utilize art styles from history and have as their subjects bats rather than humans.\"\n",
    "        },\n",
    "        {\n",
    "        \"role\": \"assistant\",\n",
    "        \"content\": \"Victorian-era painting of a masquerade ball with elaborate costumes, contrasting colors, and soft lighting. All of the attendees are humans with bat heads. \\n\\nEarly morning photography of a landscape shrouded in mist, with diffused light and long shadows. In the foreground a bat is silhouetted hanging from a perch.\\n\\nAn ancient chinese ink painting. The image shows a bat in a nature scene. The image evokes a feeling of zen. \\n\\nA greek statue of a bat.\\n\\na kaleidoscopic and psychedelic vision of the afterlife. The image shows that god is a bat. It is mysterious in tone.\"\n",
    "        },\n",
    "        {\n",
    "        \"role\": \"user\",\n",
    "        \"content\": \"Generate one more prompt. Make it as original as possible.\"\n",
    "        },\n",
    "        {\n",
    "        \"role\": \"assistant\",\n",
    "        \"content\": \"Surrealist style painting reminiscent of Salvador Dali, where the moon is replaced by a hyper-realistic, phosphorescent bat casting ethereal light on an otherworldly dreamscape. The stars appear as tiny bats dotting the night sky while\"\n",
    "        }\n",
    "    ],\n",
    "    temperature=1,\n",
    "    max_tokens=50,\n",
    "    top_p=1,\n",
    "    frequency_penalty=2,\n",
    "    presence_penalty=2\n",
    "    )\n"
   ]
  },
  {
   "cell_type": "code",
   "execution_count": null,
   "metadata": {},
   "outputs": [],
   "source": [
    "    image_prompt = response[\"choices\"][0][\"message\"][\"content\"]\n",
    "    print('Image Prompt:', image_prompt)"
   ]
  },
  {
   "cell_type": "code",
   "execution_count": null,
   "metadata": {},
   "outputs": [],
   "source": [
    "    #Generate image based on image prompt\n",
    "    image = CustomTools.generate_image_from_prompt( image_prompt )"
   ]
  },
  {
   "cell_type": "code",
   "execution_count": null,
   "metadata": {},
   "outputs": [],
   "source": [
    "image.show()"
   ]
  },
  {
   "cell_type": "code",
   "execution_count": null,
   "metadata": {},
   "outputs": [],
   "source": [
    "    #Generate a caption\n",
    "    response = openai.ChatCompletion.create(\n",
    "    model=\"gpt-4\",\n",
    "    messages=[\n",
    "        {\n",
    "        \"role\": \"system\",\n",
    "        \"content\": \"You are an Instagram caption generator. Your goal is to promote bat conservation through poetry and humor. \"\n",
    "        },\n",
    "        {\n",
    "        \"role\": \"user\",\n",
    "        \"content\": \"Write an original short poem about bats. Use evocative language. The poem should promote environmentalism OR be humorous. Make it no longer than 15 words.\"\n",
    "        },\n",
    "        {\n",
    "        \"role\": \"user\",\n",
    "        \"content\": (\"for context, the following is a description of an image which will accompany your poem: \" + image_prompt )\n",
    "        }\n",
    "    ],\n",
    "    temperature=1,\n",
    "    max_tokens=100,\n",
    "    top_p=1,\n",
    "    frequency_penalty=2,\n",
    "    presence_penalty=2\n",
    "    )"
   ]
  },
  {
   "cell_type": "code",
   "execution_count": null,
   "metadata": {},
   "outputs": [],
   "source": [
    "    poem = response[\"choices\"][0][\"message\"][\"content\"]\n",
    "    print('Caption:', poem)"
   ]
  },
  {
   "cell_type": "code",
   "execution_count": null,
   "metadata": {},
   "outputs": [],
   "source": [
    "    #Declare Hashtags\n",
    "    hashtags_list = [ \"#savethebats\", \"#batsarecool\", \"#batsofinstagram\", \"#Bats\", \"#BatLove\", \"#fruitbat\", \"#aiart\", \"#ai\", \"#chatgpt\", \"#dalle\", \"#bat\" ]\n",
    "    hashtags_string = \" \".join(str(x) for x in hashtags_list)"
   ]
  },
  {
   "cell_type": "code",
   "execution_count": null,
   "metadata": {},
   "outputs": [],
   "source": [
    "#Make compound caption:\n",
    "caption = \"\"\"{one}\n",
    "\n",
    "inspiration: {two}\n",
    "\n",
    "{three}\n",
    "\"\"\".format(one=poem, two=image_prompt, three= hashtags_string)\n",
    "print(caption)"
   ]
  },
  {
   "cell_type": "code",
   "execution_count": null,
   "metadata": {},
   "outputs": [],
   "source": [
    "\n",
    "    #Post image to instagram\n",
    "    os.chdir(\"./tmp\")\n",
    "    image.save(\"ai_bat_pic.jpg\")\n",
    "    CustomTools.post_image_and_caption( \"./ai_bat_pic.jpg\" , caption, instagrapi_client )\n"
   ]
  },
  {
   "cell_type": "code",
   "execution_count": null,
   "metadata": {},
   "outputs": [],
   "source": [
    "max_number_of_likes = 4\n",
    "CustomTools.like_list_of_hashtag_medias(instagrapi_client, hashtags_list, max_number_of_likes)"
   ]
  },
  {
   "cell_type": "code",
   "execution_count": null,
   "metadata": {},
   "outputs": [],
   "source": [
    "    image = CustomTools.generate_image_from_prompt( \"a abstract tattoo design, bold thin black lines with a pure white background, no shading. The tattoo depicts the idea of love. The subject of the tattoo design is in the center of the image and does not touch any edges. \" )\n",
    "    image.show()"
   ]
  }
 ],
 "metadata": {
  "kernelspec": {
   "display_name": "BatBot",
   "language": "python",
   "name": "python3"
  },
  "language_info": {
   "codemirror_mode": {
    "name": "ipython",
    "version": 3
   },
   "file_extension": ".py",
   "mimetype": "text/x-python",
   "name": "python",
   "nbconvert_exporter": "python",
   "pygments_lexer": "ipython3",
   "version": "3.11.3"
  },
  "orig_nbformat": 4
 },
 "nbformat": 4,
 "nbformat_minor": 2
}
